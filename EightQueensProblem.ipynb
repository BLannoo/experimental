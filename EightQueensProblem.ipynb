{
 "cells": [
  {
   "cell_type": "code",
   "execution_count": null,
   "metadata": {},
   "outputs": [],
   "source": [
    "import matplotlib.pyplot as plt\n",
    "import numpy as np\n",
    "import math"
   ]
  },
  {
   "cell_type": "code",
   "execution_count": null,
   "metadata": {},
   "outputs": [],
   "source": [
    "def to_coordinates(number, N = N):\n",
    "    coordinates = (number%N, math.floor(number/N))\n",
    "    return coordinates\n",
    "\n",
    "def to_tile_number(x, y, N = N):\n",
    "    return x + y*N"
   ]
  },
  {
   "cell_type": "code",
   "execution_count": null,
   "metadata": {},
   "outputs": [],
   "source": [
    "def show_grid(N = 8, pieces = []):\n",
    "    # Make a NxN grid...\n",
    "    image = np.zeros(N*N)\n",
    "\n",
    "    # Set every 'other' cell to one\n",
    "    whiteCells = [x+y*N for y in range(0, N) for x in range(y%2, N, 2)]\n",
    "    image[whiteCells] = np.ones(N*N //2 + N%2)\n",
    "\n",
    "    # show pieces\n",
    "    image[pieces] = np.ones(len(pieces)) * 0.5\n",
    "    \n",
    "    image = image.reshape((N, N))\n",
    "    row_labels = range(N)\n",
    "    col_labels = [chr(65+i) for i in range(N)]\n",
    "    plt.matshow(image)\n",
    "    plt.xticks(range(N), col_labels)\n",
    "    plt.yticks(range(N), row_labels)\n",
    "    plt.show()"
   ]
  },
  {
   "cell_type": "code",
   "execution_count": null,
   "metadata": {},
   "outputs": [],
   "source": [
    "N = 8\n",
    "queens = []\n",
    "\n",
    "def queens_conflict(q1, q2):\n",
    "    (x1, y1) = to_coordinates(q1)\n",
    "    (x2, y2) = to_coordinates(q2)\n",
    "    if x1 == x2:\n",
    "        return True\n",
    "    if abs(x1 - x2) == abs(y1 - y2):\n",
    "        return True\n",
    "    return False\n",
    "\n",
    "def a_queen_conflicts(queens, new_queen):\n",
    "    for old_queen in queens:\n",
    "        if queens_conflict(new_queen, old_queen):\n",
    "            return True\n",
    "    return False\n",
    "\n",
    "def add_queen(N, queens):\n",
    "    queen = len(queens)\n",
    "    \n",
    "    for column in range(N):\n",
    "        queen_tile_number = queen*N + column\n",
    "        \n",
    "        if len(queens) == 0:\n",
    "            queens.extend([queen_tile_number])\n",
    "            add_queen(N, queens)\n",
    "            if len(queens) >= N:\n",
    "                # final return\n",
    "                return\n",
    "            else:\n",
    "                queens.pop()\n",
    "        else:\n",
    "            if not a_queen_conflicts(queens, queen_tile_number):\n",
    "                queens.extend([queen_tile_number])\n",
    "\n",
    "                if len(queens) >= N:\n",
    "                    # intermediate return\n",
    "                    return\n",
    "                else:\n",
    "                    add_queen(N, queens)\n",
    "                    if len(queens) >= N:\n",
    "                        # first return\n",
    "                        return\n",
    "                    else:\n",
    "                        queens.pop()\n",
    "        \n",
    "add_queen(N, queens)\n",
    "    \n",
    "show_grid(N = N, pieces = queens)"
   ]
  }
 ],
 "metadata": {
  "kernelspec": {
   "display_name": "Python 3",
   "language": "python",
   "name": "python3"
  },
  "language_info": {
   "codemirror_mode": {
    "name": "ipython",
    "version": 3
   },
   "file_extension": ".py",
   "mimetype": "text/x-python",
   "name": "python",
   "nbconvert_exporter": "python",
   "pygments_lexer": "ipython3",
   "version": "3.6.4"
  }
 },
 "nbformat": 4,
 "nbformat_minor": 2
}
