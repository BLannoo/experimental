{
 "cells": [
  {
   "cell_type": "code",
   "execution_count": null,
   "metadata": {},
   "outputs": [],
   "source": [
    "import matplotlib.pyplot as plt\n",
    "import numpy as np\n",
    "import math"
   ]
  },
  {
   "cell_type": "code",
   "execution_count": null,
   "metadata": {},
   "outputs": [],
   "source": [
    "def to_coordinates(number, N):\n",
    "    coordinates = (number%N, math.floor(number/N))\n",
    "    return coordinates\n",
    "\n",
    "def to_tile_number(x, y, N):\n",
    "    return x + y*N"
   ]
  },
  {
   "cell_type": "code",
   "execution_count": null,
   "metadata": {},
   "outputs": [],
   "source": [
    "class Solution:\n",
    "    \n",
    "    def __init__(self, pieces):\n",
    "        self.pieces = sorted(pieces)\n",
    "        \n",
    "    def N(self):\n",
    "        return len(self.pieces)\n",
    "    \n",
    "    def is_fundamentally_different(self, others):\n",
    "        for other in others:\n",
    "            if self.is_transformation_of(other):\n",
    "                return False\n",
    "        return True\n",
    "    \n",
    "    def is_transformation_of(self, other):\n",
    "        transformations = [rotation, double_rotation, triple_rotation,\n",
    "                           mirror, mirror_rotation, \n",
    "                           mirror_double_rotation, mirror_triple_rotation]\n",
    "        for transformation in transformations:\n",
    "            if self == other.transform(transformation):\n",
    "                return True\n",
    "        return False\n",
    "    \n",
    "    def transform(self, transformation):\n",
    "        new_pieces = [transformation(self.N(), piece) for piece in self.pieces]\n",
    "        return Solution(new_pieces)\n",
    "    \n",
    "    def __eq__(self, other):\n",
    "        if isinstance(other, self.__class__):\n",
    "            return self.pieces == other.pieces\n",
    "        else:\n",
    "            return False\n",
    "    \n",
    "    # __str__ would be more appropriate, but [] redirects str() to repr()\n",
    "    def __repr__(self):\n",
    "        return 'Solution(' + str(self.pieces) + ')'"
   ]
  },
  {
   "cell_type": "code",
   "execution_count": null,
   "metadata": {},
   "outputs": [],
   "source": [
    "def show_grid(solution):\n",
    "    N = solution.N()\n",
    "    \n",
    "    # Make a NxN grid...\n",
    "    image = np.zeros(N*N)\n",
    "\n",
    "    # Set every 'other' cell to one\n",
    "    whiteCells = [x+y*N for y in range(0, N) for x in range(y%2, N, 2)]\n",
    "    image[whiteCells] = np.ones(N*N //2 + N%2)\n",
    "\n",
    "    # show pieces\n",
    "    image[solution.pieces] = np.ones(N) * 0.5\n",
    "    \n",
    "    image = image.reshape((N, N))\n",
    "    row_labels = range(N)\n",
    "    col_labels = [chr(65+i) for i in range(N)]\n",
    "    plt.imshow(image)\n",
    "    plt.xticks(range(N), col_labels)\n",
    "    plt.yticks(range(N), row_labels)"
   ]
  },
  {
   "cell_type": "code",
   "execution_count": null,
   "metadata": {},
   "outputs": [],
   "source": [
    "def queen_covers(N, queen, spot):\n",
    "    (x_queen, y_queen) = to_coordinates(queen, N)\n",
    "    (x_spot, y_spot) = to_coordinates(spot, N)\n",
    "    if x_queen == x_spot:\n",
    "        return True\n",
    "    if abs(x_queen - x_spot) == abs(y_queen - y_spot):\n",
    "        return True\n",
    "    return False\n",
    "\n",
    "def spot_free(N, queens, spot):\n",
    "    for queen in queens:\n",
    "        if queen_covers(N, spot, queen):\n",
    "            return False\n",
    "    return True"
   ]
  },
  {
   "cell_type": "code",
   "execution_count": null,
   "metadata": {},
   "outputs": [],
   "source": [
    "def try_next_queen(N, queens, solutions):\n",
    "    queen = len(queens)\n",
    "    \n",
    "    for column in range(N):\n",
    "        queen_tile_number = queen*N + column\n",
    "        \n",
    "        if spot_free(N, queens, queen_tile_number):\n",
    "            queens.extend([queen_tile_number])\n",
    "            try_next_queen(N, queens, solutions)\n",
    "            if len(queens) >= N:\n",
    "                solutions.append(Solution(queens[:]))\n",
    "            queens.pop()\n",
    "                        \n",
    "def solve_queens_problem(N):\n",
    "    solutions = []\n",
    "    for column in range(N):\n",
    "        queens = [column]\n",
    "        try_next_queen(N, queens, solutions)\n",
    "    return solutions"
   ]
  },
  {
   "cell_type": "code",
   "execution_count": null,
   "metadata": {},
   "outputs": [],
   "source": [
    "def show_all_solutions(solutions):\n",
    "    if len(solutions) == 0:\n",
    "        print('No solutions where found.')\n",
    "        return\n",
    "    \n",
    "    print('The solutions are: ' + str(solutions))\n",
    "    \n",
    "    grid_size = math.ceil(math.sqrt(len(solutions)))\n",
    "\n",
    "    plt.figure(figsize=(3*grid_size, 3*grid_size))\n",
    "\n",
    "    for i, solution in enumerate(solutions):\n",
    "        plt.subplot(grid_size, grid_size, i+1)\n",
    "        show_grid(solution)\n",
    "\n",
    "    plt.show()"
   ]
  },
  {
   "cell_type": "code",
   "execution_count": null,
   "metadata": {},
   "outputs": [],
   "source": [
    "def rotation(N, tile_number):\n",
    "    (x, y) = to_coordinates(tile_number, N)\n",
    "    return to_tile_number(N-1 - y, x, N)\n",
    "\n",
    "def double_rotation(N, tile_number):\n",
    "    return rotation(N, rotation(N, tile_number))\n",
    "\n",
    "def triple_rotation(N, tile_number):\n",
    "    return rotation(N, double_rotation(N, tile_number))\n",
    "    \n",
    "def mirror(N, tile_number):\n",
    "    (x, y) = to_coordinates(tile_number, N)\n",
    "    return to_tile_number(N-1 - x, y, N)\n",
    "\n",
    "def mirror_rotation(N, tile_number):\n",
    "    return rotation(N, mirror(N, tile_number))\n",
    "\n",
    "def mirror_double_rotation(N, tile_number):\n",
    "    return double_rotation(N, mirror(N, tile_number))\n",
    "\n",
    "def mirror_triple_rotation(N, tile_number):\n",
    "    return triple_rotation(N, mirror(N, tile_number))"
   ]
  },
  {
   "cell_type": "code",
   "execution_count": null,
   "metadata": {},
   "outputs": [],
   "source": [
    "def remove_symmetries(solutions):\n",
    "    filtered_solutions = []\n",
    "    for solution in solutions:\n",
    "        if solution.is_fundamentally_different(filtered_solutions):\n",
    "            filtered_solutions.append(solution)\n",
    "    return filtered_solutions"
   ]
  },
  {
   "cell_type": "code",
   "execution_count": null,
   "metadata": {
    "scrolled": false
   },
   "outputs": [],
   "source": [
    "def run():\n",
    "    for N in range(9):\n",
    "        print('for N = '+ str(N))\n",
    "        all_solutions = solve_queens_problem(N)\n",
    "        different_solutions = remove_symmetries(all_solutions)\n",
    "        show_all_solutions(different_solutions)\n",
    "        \n",
    "run()"
   ]
  }
 ],
 "metadata": {
  "kernelspec": {
   "display_name": "Python 3",
   "language": "python",
   "name": "python3"
  },
  "language_info": {
   "codemirror_mode": {
    "name": "ipython",
    "version": 3
   },
   "file_extension": ".py",
   "mimetype": "text/x-python",
   "name": "python",
   "nbconvert_exporter": "python",
   "pygments_lexer": "ipython3",
   "version": "3.6.4"
  }
 },
 "nbformat": 4,
 "nbformat_minor": 2
}
