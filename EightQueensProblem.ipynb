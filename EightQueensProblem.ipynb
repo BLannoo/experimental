{
 "cells": [
  {
   "cell_type": "code",
   "execution_count": null,
   "metadata": {},
   "outputs": [],
   "source": [
    "import matplotlib.pyplot as plt\n",
    "import numpy as np"
   ]
  },
  {
   "cell_type": "code",
   "execution_count": null,
   "metadata": {},
   "outputs": [],
   "source": [
    "def show_grid(N = 8):\n",
    "    # Make a NxN grid...\n",
    "    image = np.zeros(N*N)\n",
    "\n",
    "    # Set every 'other' cell to one\n",
    "    whiteCells = [i*N+j for i in range(0, N) for j in range(i%2, N, 2)]\n",
    "    image[whiteCells] = np.ones(N*N //2 + N%2)\n",
    "\n",
    "    image = image.reshape((N, N))\n",
    "    row_labels = range(N)\n",
    "    col_labels = [chr(65+i) for i in range(N)]\n",
    "    plt.matshow(image)\n",
    "    plt.xticks(range(N), col_labels)\n",
    "    plt.yticks(range(N), row_labels)\n",
    "    plt.show()"
   ]
  },
  {
   "cell_type": "code",
   "execution_count": null,
   "metadata": {},
   "outputs": [],
   "source": [
    "show_grid(15)"
   ]
  }
 ],
 "metadata": {
  "kernelspec": {
   "display_name": "Python 3",
   "language": "python",
   "name": "python3"
  },
  "language_info": {
   "codemirror_mode": {
    "name": "ipython",
    "version": 3
   },
   "file_extension": ".py",
   "mimetype": "text/x-python",
   "name": "python",
   "nbconvert_exporter": "python",
   "pygments_lexer": "ipython3",
   "version": "3.6.4"
  }
 },
 "nbformat": 4,
 "nbformat_minor": 2
}
