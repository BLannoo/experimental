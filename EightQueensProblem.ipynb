{
 "cells": [
  {
   "cell_type": "code",
   "execution_count": null,
   "metadata": {},
   "outputs": [],
   "source": [
    "import matplotlib.pyplot as plt\n",
    "import numpy as np\n",
    "import math"
   ]
  },
  {
   "cell_type": "markdown",
   "metadata": {},
   "source": [
    "# Coordinates vs tile_number"
   ]
  },
  {
   "cell_type": "code",
   "execution_count": null,
   "metadata": {},
   "outputs": [],
   "source": [
    "def to_coordinates(tile_number, N):\n",
    "    coordinates = (tile_number%N, tile_number//N)\n",
    "    return coordinates\n",
    "\n",
    "def to_tile_number(x, y, N):\n",
    "    return x + y*N"
   ]
  },
  {
   "cell_type": "markdown",
   "metadata": {},
   "source": [
    "# Transformations"
   ]
  },
  {
   "cell_type": "code",
   "execution_count": null,
   "metadata": {},
   "outputs": [],
   "source": [
    "def rotation(N, tile_number):\n",
    "    (x, y) = to_coordinates(tile_number, N)\n",
    "    return to_tile_number(N-1 - y, x, N)\n",
    "\n",
    "def double_rotation(N, tile_number):\n",
    "    return rotation(N, rotation(N, tile_number))\n",
    "\n",
    "def triple_rotation(N, tile_number):\n",
    "    return rotation(N, double_rotation(N, tile_number))\n",
    "    \n",
    "def mirror(N, tile_number):\n",
    "    (x, y) = to_coordinates(tile_number, N)\n",
    "    return to_tile_number(N-1 - x, y, N)\n",
    "\n",
    "def mirror_rotation(N, tile_number):\n",
    "    return rotation(N, mirror(N, tile_number))\n",
    "\n",
    "def mirror_double_rotation(N, tile_number):\n",
    "    return double_rotation(N, mirror(N, tile_number))\n",
    "\n",
    "def mirror_triple_rotation(N, tile_number):\n",
    "    return triple_rotation(N, mirror(N, tile_number))\n",
    "\n",
    "def all_transformations():\n",
    "    return [rotation, double_rotation, triple_rotation,\n",
    "            mirror, mirror_rotation, mirror_double_rotation, mirror_triple_rotation]"
   ]
  },
  {
   "cell_type": "markdown",
   "metadata": {},
   "source": [
    "## Plot chess board (with pieces)"
   ]
  },
  {
   "cell_type": "code",
   "execution_count": null,
   "metadata": {},
   "outputs": [],
   "source": [
    "def plot_chess(N, pieces = []):\n",
    "    # Make a NxN grid...\n",
    "    image = np.zeros(N*N)\n",
    "\n",
    "    # Set every 'other' cell to one\n",
    "    whiteCells = [x+y*N for y in range(0, N) for x in range(y%2, N, 2)]\n",
    "    image[whiteCells] = np.ones(N*N //2 + N%2)\n",
    "\n",
    "    # show pieces\n",
    "    image[pieces] = np.ones(len(pieces)) * 0.5\n",
    "\n",
    "    image = image.reshape((N, N))\n",
    "    row_labels = range(N, 0, -1)\n",
    "    col_labels = [chr(65+i) for i in range(N)]\n",
    "    plt.imshow(image)\n",
    "    plt.xticks(range(N), col_labels)\n",
    "    plt.yticks(range(N), row_labels)"
   ]
  },
  {
   "cell_type": "markdown",
   "metadata": {},
   "source": [
    "## Solutions class"
   ]
  },
  {
   "cell_type": "code",
   "execution_count": null,
   "metadata": {},
   "outputs": [],
   "source": [
    "class Solution:\n",
    "    \n",
    "    def __init__(self, pieces):\n",
    "        self.__pieces = sorted(pieces)\n",
    "        self.__N = len(pieces)\n",
    "    \n",
    "    def is_fundamentally_different(self, others):\n",
    "        for other in others:\n",
    "            if self.__is_transformation_of(other):\n",
    "                return False\n",
    "        return True\n",
    "    \n",
    "    def __is_transformation_of(self, other):\n",
    "        for transformation in all_transformations():\n",
    "            if self.__transform(transformation) == other:\n",
    "                return True\n",
    "        return False\n",
    "    \n",
    "    def __transform(self, transformation):\n",
    "        new_pieces = [transformation(self.__N, piece) for piece in self.__pieces]\n",
    "        return Solution(new_pieces)\n",
    "    \n",
    "    def plot(self):\n",
    "        plot_chess(self.__N, self.__pieces)\n",
    "    \n",
    "    def __eq__(self, other):\n",
    "        if isinstance(other, self.__class__):\n",
    "            return self.__pieces == other.__pieces\n",
    "        else:\n",
    "            return False\n",
    "    \n",
    "    # __str__ would be more appropriate, but [] redirects str() to repr()\n",
    "    def __repr__(self):\n",
    "        return 'Solution(' + str(self.__pieces) + ')'"
   ]
  },
  {
   "cell_type": "markdown",
   "metadata": {},
   "source": [
    "## Solver class"
   ]
  },
  {
   "cell_type": "code",
   "execution_count": null,
   "metadata": {},
   "outputs": [],
   "source": [
    "class Solver:\n",
    "    def __init__(self, N):\n",
    "        self.__N = N\n",
    "        self.__all_solutions = []\n",
    "\n",
    "    def solve_queens_problem(self):\n",
    "        for column in range(self.__N):\n",
    "            queens = [column]\n",
    "            self.__try_next_queen(queens)\n",
    "        return self.__all_solutions\n",
    "\n",
    "    def __try_next_queen(self, queens):\n",
    "        queen = len(queens)\n",
    "        for column in range(self.__N):\n",
    "            queen_tile_number = queen*self.__N + column\n",
    "\n",
    "            if self.__spot_free(queens, queen_tile_number):\n",
    "                queens.extend([queen_tile_number])\n",
    "                self.__try_next_queen(queens)\n",
    "                if len(queens) >= self.__N:\n",
    "                    self.__all_solutions.append(Solution(queens[:]))\n",
    "                queens.pop()\n",
    "\n",
    "    def __spot_free(self, queens, spot):\n",
    "        for queen in queens:\n",
    "            if self.__queen_covers(spot, queen):\n",
    "                return False\n",
    "        return True\n",
    "        \n",
    "    def __queen_covers(self, queen, spot):\n",
    "        (x_queen, y_queen) = to_coordinates(queen, self.__N)\n",
    "        (x_spot, y_spot) = to_coordinates(spot, self.__N)\n",
    "        if x_queen == x_spot:\n",
    "            return True\n",
    "        if abs(x_queen - x_spot) == abs(y_queen - y_spot):\n",
    "            return True\n",
    "        return False"
   ]
  },
  {
   "cell_type": "markdown",
   "metadata": {},
   "source": [
    "## Post processing"
   ]
  },
  {
   "cell_type": "code",
   "execution_count": null,
   "metadata": {},
   "outputs": [],
   "source": [
    "def remove_symmetries(solutions):\n",
    "    filtered_solutions = []\n",
    "    for solution in solutions:\n",
    "        if solution.is_fundamentally_different(filtered_solutions):\n",
    "            filtered_solutions.append(solution)\n",
    "    return filtered_solutions\n",
    "\n",
    "def show_all_solutions(solutions):\n",
    "    if len(solutions) == 0:\n",
    "        print('No solutions where found.')\n",
    "        return\n",
    "\n",
    "    print('The solutions are: ' + str(solutions))\n",
    "\n",
    "    grid_size = math.ceil(math.sqrt(len(solutions)))\n",
    "\n",
    "    plt.figure(figsize=(3*grid_size, 3*grid_size))\n",
    "\n",
    "    for i, solution in enumerate(solutions):\n",
    "        plt.subplot(grid_size, grid_size, i+1)\n",
    "        solution.plot()\n",
    "\n",
    "    plt.show()"
   ]
  },
  {
   "cell_type": "markdown",
   "metadata": {},
   "source": [
    "## Run for all N's in range"
   ]
  },
  {
   "cell_type": "code",
   "execution_count": null,
   "metadata": {
    "scrolled": false
   },
   "outputs": [],
   "source": [
    "def run():\n",
    "    for N in range(9):\n",
    "        print('for N = ' + str(N))\n",
    "        all_solutions = Solver(N).solve_queens_problem()\n",
    "        different_solutions = remove_symmetries(all_solutions)\n",
    "        show_all_solutions(different_solutions)\n",
    "        \n",
    "run()"
   ]
  }
 ],
 "metadata": {
  "kernelspec": {
   "display_name": "Python 3",
   "language": "python",
   "name": "python3"
  },
  "language_info": {
   "codemirror_mode": {
    "name": "ipython",
    "version": 3
   },
   "file_extension": ".py",
   "mimetype": "text/x-python",
   "name": "python",
   "nbconvert_exporter": "python",
   "pygments_lexer": "ipython3",
   "version": "3.6.4"
  }
 },
 "nbformat": 4,
 "nbformat_minor": 2
}
