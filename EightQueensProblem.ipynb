{
 "cells": [
  {
   "cell_type": "code",
   "execution_count": null,
   "metadata": {},
   "outputs": [],
   "source": [
    "import matplotlib.pyplot as plt\n",
    "import numpy as np\n",
    "import math"
   ]
  },
  {
   "cell_type": "code",
   "execution_count": null,
   "metadata": {},
   "outputs": [],
   "source": [
    "def to_coordinates(number, N):\n",
    "    coordinates = (number%N, math.floor(number/N))\n",
    "    return coordinates\n",
    "\n",
    "def to_tile_number(x, y, N):\n",
    "    return x + y*N"
   ]
  },
  {
   "cell_type": "code",
   "execution_count": null,
   "metadata": {},
   "outputs": [],
   "source": [
    "def show_grid(N, pieces = []):\n",
    "    # Make a NxN grid...\n",
    "    image = np.zeros(N*N)\n",
    "\n",
    "    # Set every 'other' cell to one\n",
    "    whiteCells = [x+y*N for y in range(0, N) for x in range(y%2, N, 2)]\n",
    "    image[whiteCells] = np.ones(N*N //2 + N%2)\n",
    "\n",
    "    # show pieces\n",
    "    image[pieces] = np.ones(len(pieces)) * 0.5\n",
    "    \n",
    "    image = image.reshape((N, N))\n",
    "    row_labels = range(N)\n",
    "    col_labels = [chr(65+i) for i in range(N)]\n",
    "    plt.imshow(image)\n",
    "    plt.xticks(range(N), col_labels)\n",
    "    plt.yticks(range(N), row_labels)"
   ]
  },
  {
   "cell_type": "code",
   "execution_count": null,
   "metadata": {},
   "outputs": [],
   "source": [
    "def queen_covers(N, queen, spot):\n",
    "    (x_queen, y_queen) = to_coordinates(queen, N)\n",
    "    (x_spot, y_spot) = to_coordinates(spot, N)\n",
    "    if x_queen == x_spot:\n",
    "        return True\n",
    "    if abs(x_queen - x_spot) == abs(y_queen - y_spot):\n",
    "        return True\n",
    "    return False\n",
    "\n",
    "def spot_free(N, queens, spot):\n",
    "    for queen in queens:\n",
    "        if queen_covers(N, spot, queen):\n",
    "            return False\n",
    "    return True"
   ]
  },
  {
   "cell_type": "code",
   "execution_count": null,
   "metadata": {},
   "outputs": [],
   "source": [
    "def try_next_queen(N, queens, solutions):\n",
    "    queen = len(queens)\n",
    "    \n",
    "    for column in range(N):\n",
    "        queen_tile_number = queen*N + column\n",
    "        \n",
    "        if spot_free(N, queens, queen_tile_number):\n",
    "            queens.extend([queen_tile_number])\n",
    "            try_next_queen(N, queens, solutions)\n",
    "            if len(queens) >= N:\n",
    "                solutions.append(queens[:])\n",
    "            queens.pop()\n",
    "                        \n",
    "def solve_queens_problem(N):\n",
    "    solutions = []\n",
    "    for column in range(N):\n",
    "        queens = [column]\n",
    "        try_next_queen(N, queens, solutions)\n",
    "    return solutions"
   ]
  },
  {
   "cell_type": "code",
   "execution_count": null,
   "metadata": {},
   "outputs": [],
   "source": [
    "def show_all_solutions(solutions):\n",
    "    if len(solutions) == 0:\n",
    "        print('No solutions where found.')\n",
    "        return\n",
    "    \n",
    "    grid_size = math.ceil(math.sqrt(len(solutions)))\n",
    "\n",
    "    plt.figure(figsize=(20, 20))\n",
    "\n",
    "    for i, solution in enumerate(solutions):\n",
    "        plt.subplot(grid_size, grid_size, i+1)\n",
    "        show_grid(N = N, pieces = solution)\n",
    "\n",
    "    plt.show()"
   ]
  },
  {
   "cell_type": "code",
   "execution_count": null,
   "metadata": {
    "scrolled": false
   },
   "outputs": [],
   "source": [
    "for N in range(10):\n",
    "    print('for N = '+ str(N))\n",
    "    solutions = solve_queens_problem(N)\n",
    "    show_all_solutions(solutions)"
   ]
  }
 ],
 "metadata": {
  "kernelspec": {
   "display_name": "Python 3",
   "language": "python",
   "name": "python3"
  },
  "language_info": {
   "codemirror_mode": {
    "name": "ipython",
    "version": 3
   },
   "file_extension": ".py",
   "mimetype": "text/x-python",
   "name": "python",
   "nbconvert_exporter": "python",
   "pygments_lexer": "ipython3",
   "version": "3.6.4"
  }
 },
 "nbformat": 4,
 "nbformat_minor": 2
}
