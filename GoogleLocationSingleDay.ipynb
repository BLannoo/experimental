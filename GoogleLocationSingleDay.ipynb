{
 "cells": [
  {
   "cell_type": "code",
   "execution_count": null,
   "metadata": {},
   "outputs": [],
   "source": [
    "import json\n",
    "import pandas as pd\n",
    "import math\n",
    "import datetime\n",
    "\n",
    "%matplotlib inline"
   ]
  },
  {
   "cell_type": "code",
   "execution_count": null,
   "metadata": {},
   "outputs": [],
   "source": [
    "# reading the JSON data using json.load()\n",
    "file = './data/GoogleLocation.json'\n",
    "with open(file) as train_file:\n",
    "    data_json = json.load(train_file)\n",
    "    \n",
    "df = pd.DataFrame({'raw': data_json['locations']})"
   ]
  },
  {
   "cell_type": "code",
   "execution_count": null,
   "metadata": {},
   "outputs": [],
   "source": [
    "# Extract the base data\n",
    "df['timestampMs'] = df.apply(lambda row: int(row['raw']['timestampMs']), axis=1)\n",
    "df['latitudeE7'] = df.apply(lambda row: row['raw']['latitudeE7'], axis=1)\n",
    "df['longitudeE7'] = df.apply(lambda row: row['raw']['longitudeE7'], axis=1)\n",
    "df['accuracy'] = df.apply(lambda row: row['raw']['accuracy'], axis=1)"
   ]
  },
  {
   "cell_type": "code",
   "execution_count": null,
   "metadata": {},
   "outputs": [],
   "source": [
    "# Derivatives\n",
    "df['date'] = pd.to_datetime(df['timestampMs'], unit='ms')\n",
    "df['year'] = df.apply(lambda row: row['date'].year, axis=1)\n",
    "df['month'] = df.apply(lambda row: row['date'].month, axis=1)\n",
    "df['day'] = df.apply(lambda row: row['date'].day, axis=1)\n",
    "\n",
    "df['time_of_day'] = (df['timestampMs'] % (1000*60*60*24)) / (1000*60*60)\n",
    "df['duration'] = df['timestampMs'].diff()*-1"
   ]
  },
  {
   "cell_type": "code",
   "execution_count": null,
   "metadata": {},
   "outputs": [],
   "source": [
    "df.head()"
   ]
  },
  {
   "cell_type": "code",
   "execution_count": null,
   "metadata": {},
   "outputs": [],
   "source": [
    "df_part = pd.DataFrame(df[(df['accuracy'] < 100) & (df['year']==2018) & (df['month']==7) & (df['day']==17)])\n",
    "df_part['duration'] = df_part['timestampMs'].diff()*-1\n",
    "df_part['sqrt_duration'] = df_part.apply(lambda row: math.sqrt(row['duration']), axis=1)\n",
    "\n",
    "df_part.plot.scatter(x='longitudeE7', xerr=df_part['accuracy']*200, y='latitudeE7', c='time_of_day', s=df_part['sqrt_duration'], figsize=(16, 10), colormap='viridis')"
   ]
  },
  {
   "cell_type": "code",
   "execution_count": null,
   "metadata": {},
   "outputs": [],
   "source": [
    "df_part['activity_raw'] = df_part.apply(lambda row: row['raw'].get('activity'), axis=1)\n",
    "\n",
    "def gather_confidences(activities_raw, types):\n",
    "    if activities_raw == None:\n",
    "        return []\n",
    "    \n",
    "    found = []\n",
    "    for activity in activities_raw:\n",
    "        options = activity['activity']\n",
    "        \n",
    "        if options[0]['type'] == 'TILTING':\n",
    "            continue\n",
    "        \n",
    "        confidence = 0\n",
    "        for act_type in types:\n",
    "            for act in filter(lambda act: act['type'] == act_type, options):\n",
    "                confidence += act['confidence']\n",
    "        found.append(confidence)\n",
    "    return found\n",
    "\n",
    "df_part['still_confidence'] = df_part.apply(lambda row: gather_confidences(row['activity_raw'], ['STILL']), axis=1)\n",
    "df_part['moving_confidence'] = df_part.apply(lambda row: gather_confidences(row['activity_raw'], ['ON_FOOT', 'IN_VEHICLE', 'ON_BICYCLE']), axis=1)"
   ]
  },
  {
   "cell_type": "code",
   "execution_count": null,
   "metadata": {},
   "outputs": [],
   "source": [
    "df_part.describe()"
   ]
  },
  {
   "cell_type": "code",
   "execution_count": null,
   "metadata": {
    "scrolled": false
   },
   "outputs": [],
   "source": []
  },
  {
   "cell_type": "code",
   "execution_count": null,
   "metadata": {
    "scrolled": false
   },
   "outputs": [],
   "source": [
    "def plot_single_day(year, month, day):\n",
    "    df_part = pd.DataFrame(df[(df['accuracy'] < 100) & (df['year']==year) & (df['month']==month) & (df['day']==day)])\n",
    "    df_part['duration'] = df_part['timestampMs'].diff()*-1\n",
    "    df_part['sqrt_duration'] = df_part.apply(lambda row: math.sqrt(row['duration']), axis=1)\n",
    "\n",
    "    df_part.plot.scatter(x='longitudeE7', xerr=df_part['accuracy']*200, y='latitudeE7', c='time_of_day', s=df_part['sqrt_duration'], figsize=(16, 10), colormap='viridis')\n",
    "\n",
    "for i in range(1, 7):\n",
    "    plot_single_day(2018, 7, i)"
   ]
  }
 ],
 "metadata": {
  "kernelspec": {
   "display_name": "Python 3",
   "language": "python",
   "name": "python3"
  },
  "language_info": {
   "codemirror_mode": {
    "name": "ipython",
    "version": 3
   },
   "file_extension": ".py",
   "mimetype": "text/x-python",
   "name": "python",
   "nbconvert_exporter": "python",
   "pygments_lexer": "ipython3",
   "version": "3.6.4"
  }
 },
 "nbformat": 4,
 "nbformat_minor": 2
}
