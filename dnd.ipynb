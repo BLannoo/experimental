{
 "cells": [
  {
   "cell_type": "markdown",
   "metadata": {},
   "source": [
    "# dnd experiment to extract spells from a webpage"
   ]
  },
  {
   "cell_type": "code",
   "execution_count": null,
   "metadata": {},
   "outputs": [],
   "source": [
    "from requests import get\n",
    "from requests.exceptions import RequestException\n",
    "from contextlib import closing\n",
    "from bs4 import BeautifulSoup\n",
    "import pandas as pd\n",
    "import re"
   ]
  },
  {
   "cell_type": "code",
   "execution_count": null,
   "metadata": {},
   "outputs": [],
   "source": [
    "# Fancy url getter \n",
    "\n",
    "def simple_get(url):\n",
    "    \"\"\"\n",
    "    Attempts to get the content at `url` by making an HTTP GET request.\n",
    "    If the content-type of response is some kind of HTML/XML, return the\n",
    "    text content, otherwise return None\n",
    "    \"\"\"\n",
    "    try:\n",
    "        with closing(get(url, stream=True)) as resp:\n",
    "            if is_good_response(resp):\n",
    "                return resp.content\n",
    "            else:\n",
    "                return None\n",
    "\n",
    "    except RequestException as e:\n",
    "        log_error('Error during requests to {0} : {1}'.format(url, str(e)))\n",
    "        return None\n",
    "\n",
    "\n",
    "def is_good_response(resp):\n",
    "    \"\"\"\n",
    "    Returns true if the response seems to be HTML, false otherwise\n",
    "    \"\"\"\n",
    "    content_type = resp.headers['Content-Type'].lower()\n",
    "    return (resp.status_code == 200 \n",
    "            and content_type is not None \n",
    "            and content_type.find('html') > -1)\n",
    "\n",
    "\n",
    "def log_error(e):\n",
    "    \"\"\"\n",
    "    It is always a good idea to log errors. \n",
    "    This function just prints them, but you can\n",
    "    make it do anything.\n",
    "    \"\"\"\n",
    "    print(e)"
   ]
  },
  {
   "cell_type": "code",
   "execution_count": null,
   "metadata": {
    "scrolled": true
   },
   "outputs": [],
   "source": [
    "# Request all pages\n",
    "\n",
    "raw_html = simple_get('http://engl393-dnd5th.wikia.com/wiki/Wizard_Spells')\n",
    "\n",
    "soup = BeautifulSoup(raw_html, 'html.parser');\n",
    "\n",
    "df = pd.DataFrame()\n",
    "\n",
    "spell_section = soup.find(\"div\", {\"id\": \"mw-content-text\"})\n",
    "\n",
    "for spells_by_level in spell_section.find_all(\"ul\",recursive=False):\n",
    "    spell_level = spells_by_level.find_previous_sibling('h2').text\n",
    "    for spell in spells_by_level.find_all(\"li\",recursive=False):\n",
    "        df_temp = pd.DataFrame([[spell.a.text, spell_level, spell.a.attrs['href']]], columns=['name', 'level-name', 'url'])\n",
    "        df = df.append(df_temp, ignore_index=True)\n",
    "\n",
    "def get_detail_page(url):\n",
    "    \n",
    "    full_url = 'http://engl393-dnd5th.wikia.com' + url\n",
    "    \n",
    "    soup = BeautifulSoup(simple_get(full_url), 'html.parser')\n",
    "    return soup.find(\"div\", {\"id\": \"mw-content-text\"})\n",
    "\n",
    "df['details'] = df['url'].map(get_detail_page)"
   ]
  },
  {
   "cell_type": "code",
   "execution_count": null,
   "metadata": {},
   "outputs": [],
   "source": [
    "def level(level_name):\n",
    "    return re.findall('\\d+', level_name )[0]\n",
    "\n",
    "df['level'] = df['level-name'].map(level)\n",
    "\n",
    "def is_table_description(details):\n",
    "    if(details.table == None):\n",
    "        return False\n",
    "    return details.table.find('th', text=re.compile('Casting.*')) != None\n",
    "\n",
    "df['isTableDescription'] = df['details'].map(is_table_description)\n",
    "\n",
    "def school(details):\n",
    "    return details.find(\"i\").text \\\n",
    "        .split(' cantrip')[0] \\\n",
    "        .split(' (ritual)')[0] \\\n",
    "        .split()[-1] \\\n",
    "        .lower()\n",
    "    \n",
    "df['school'] = df['details'].map(school)\n",
    "\n",
    "def casting_time(details):\n",
    "    try:\n",
    "        if(is_table_description(details)):\n",
    "            full_text = details.find('th', text=re.compile('Casting.*')).findNext('td').text\n",
    "        else:\n",
    "            full_text = details.find('b', text=re.compile('Casting.*')).parent.find(text=True, recursive=False)\n",
    "        return full_text.strip(':').strip('\\n').strip('\\xa0').strip()\n",
    "    except AttributeError as err:\n",
    "        return err\n",
    "\n",
    "df['castingTime'] = df['details'].map(casting_time)"
   ]
  },
  {
   "cell_type": "code",
   "execution_count": null,
   "metadata": {},
   "outputs": [],
   "source": [
    "df.school.unique()"
   ]
  },
  {
   "cell_type": "code",
   "execution_count": null,
   "metadata": {},
   "outputs": [],
   "source": [
    "df.castingTime.unique()"
   ]
  },
  {
   "cell_type": "code",
   "execution_count": null,
   "metadata": {},
   "outputs": [],
   "source": [
    "df.loc[df['school'] == 'enchantment']"
   ]
  }
 ],
 "metadata": {
  "kernelspec": {
   "display_name": "Python 3",
   "language": "python",
   "name": "python3"
  },
  "language_info": {
   "codemirror_mode": {
    "name": "ipython",
    "version": 3
   },
   "file_extension": ".py",
   "mimetype": "text/x-python",
   "name": "python",
   "nbconvert_exporter": "python",
   "pygments_lexer": "ipython3",
   "version": "3.6.4"
  }
 },
 "nbformat": 4,
 "nbformat_minor": 2
}
