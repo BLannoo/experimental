{
 "cells": [
  {
   "cell_type": "code",
   "execution_count": 2,
   "metadata": {},
   "outputs": [],
   "source": [
    "from scipy.integrate import ode"
   ]
  },
  {
   "cell_type": "code",
   "execution_count": 3,
   "metadata": {},
   "outputs": [
    {
     "name": "stdout",
     "output_type": "stream",
     "text": [
      "1 [-0.71038232+0.23749653j  0.40000271+0.j        ]\n",
      "2.0 [0.19098503-0.52359246j 0.22222356+0.j        ]\n",
      "3.0 [0.47153208+0.52701229j 0.15384681+0.j        ]\n",
      "4.0 [-0.61905937+0.30726255j  0.11764744+0.j        ]\n",
      "5.0 [0.02340997-0.61418799j 0.09523835+0.j        ]\n",
      "6.0 [0.58643071+0.339819j 0.08000018+0.j      ]\n",
      "7.0 [-0.52070105+0.44525141j  0.06896565+0.j        ]\n",
      "8.0 [-0.15986733-0.61234476j  0.06060616+0.j        ]\n",
      "9.0 [0.64850462+0.15048982j 0.05405414+0.j        ]\n",
      "10.0 [-0.38404699+0.56382299j  0.04878055+0.j        ]\n"
     ]
    }
   ],
   "source": [
    "y0, t0 = [1.0j, 2.0], 0\n",
    "\n",
    "def f(t, y, arg1):\n",
    "    return [1j*arg1*y[0] + y[1], -arg1*y[1]**2]\n",
    "\n",
    "def jac(t, y, arg1):\n",
    "    return [[1j*arg1, 1], [0, -arg1*2*y[1]]]\n",
    "\n",
    "r = ode(f, jac).set_integrator('zvode', method='bdf')\n",
    "r.set_initial_value(y0, t0).set_f_params(2.0).set_jac_params(2.0)\n",
    "t1 = 10\n",
    "dt = 1\n",
    "while r.successful() and r.t < t1:\n",
    "    print(r.t+dt, r.integrate(r.t+dt))\n"
   ]
  }
 ],
 "metadata": {
  "kernelspec": {
   "display_name": "Python 3",
   "language": "python",
   "name": "python3"
  },
  "language_info": {
   "codemirror_mode": {
    "name": "ipython",
    "version": 3
   },
   "file_extension": ".py",
   "mimetype": "text/x-python",
   "name": "python",
   "nbconvert_exporter": "python",
   "pygments_lexer": "ipython3",
   "version": "3.6.4"
  }
 },
 "nbformat": 4,
 "nbformat_minor": 2
}
