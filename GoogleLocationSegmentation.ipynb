{
 "cells": [
  {
   "cell_type": "code",
   "execution_count": null,
   "metadata": {},
   "outputs": [],
   "source": [
    "import json\n",
    "import pandas as pd\n",
    "import math\n",
    "\n",
    "%matplotlib inline"
   ]
  },
  {
   "cell_type": "code",
   "execution_count": null,
   "metadata": {},
   "outputs": [],
   "source": [
    "# reading the JSON data using json.load()\n",
    "file = './data/GoogleLocation.json'\n",
    "with open(file) as train_file:\n",
    "    data_json = json.load(train_file)\n",
    "    \n",
    "df = pd.DataFrame({'raw': data_json['locations']})"
   ]
  },
  {
   "cell_type": "code",
   "execution_count": null,
   "metadata": {},
   "outputs": [],
   "source": [
    "# Extract the base data\n",
    "df['timestampMs'] = df.apply(lambda row: int(row['raw']['timestampMs']), axis=1)\n",
    "df['latitudeE7'] = df.apply(lambda row: row['raw']['latitudeE7'], axis=1)\n",
    "df['longitudeE7'] = df.apply(lambda row: row['raw']['longitudeE7'], axis=1)\n",
    "df['accuracy'] = df.apply(lambda row: row['raw']['accuracy'], axis=1)\n",
    "\n",
    "# Derivatives\n",
    "df['date'] = pd.to_datetime(df['timestampMs'], unit='ms')\n",
    "df['year'] = df.apply(lambda row: row['date'].year, axis=1)\n",
    "df['month'] = df.apply(lambda row: row['date'].month, axis=1)\n",
    "df['day'] = df.apply(lambda row: row['date'].day, axis=1)\n",
    "df['hour'] = df.apply(lambda row: row['date'].hour, axis=1)"
   ]
  },
  {
   "cell_type": "code",
   "execution_count": null,
   "metadata": {},
   "outputs": [],
   "source": [
    "df_part = pd.DataFrame(df[(df['accuracy'] < 100) & (df['year']==2018) & (df['month']==7) & (df['day']==17)])"
   ]
  },
  {
   "cell_type": "code",
   "execution_count": null,
   "metadata": {},
   "outputs": [],
   "source": [
    "grouped = df.groupby(['year','month','day','hour']).agg({'latitudeE7': ['median', 'var', 'count'], 'longitudeE7': 'var'})\n",
    "\n",
    "# +epsilon for stability\n",
    "grouped['lat_var_log'] = grouped.apply(lambda row: math.log(row['latitudeE7']['var']+0.0001), axis=1)\n",
    "\n",
    "grouped"
   ]
  },
  {
   "cell_type": "code",
   "execution_count": null,
   "metadata": {},
   "outputs": [],
   "source": [
    "grouped[grouped['latitudeE7']['count'] == 1]['latitudeE7']['median'].hist(bins=1000)"
   ]
  },
  {
   "cell_type": "code",
   "execution_count": null,
   "metadata": {},
   "outputs": [],
   "source": [
    "grouped.hist(['lat_var_log'], bins=100, figsize=(16, 10))"
   ]
  },
  {
   "cell_type": "code",
   "execution_count": null,
   "metadata": {},
   "outputs": [],
   "source": [
    "df_part['dx'] = df_part.longitudeE7.diff()\n",
    "df_part['dy'] = df_part.latitudeE7.diff()\n",
    "df_part['dot_prod'] = df_part.dx * df_part.dx.shift() + df_part.dy * df_part.dy.shift()\n",
    "df_part['movement'] = df_part['dot_prod'].rolling(5, center=True).mean()\n",
    "\n",
    "df_part.head(60)"
   ]
  },
  {
   "cell_type": "code",
   "execution_count": null,
   "metadata": {},
   "outputs": [],
   "source": []
  },
  {
   "cell_type": "code",
   "execution_count": null,
   "metadata": {},
   "outputs": [],
   "source": [
    "df_part.plot(x='timestampMs', y='movement')"
   ]
  },
  {
   "cell_type": "code",
   "execution_count": null,
   "metadata": {},
   "outputs": [],
   "source": [
    "df_part['gps_var'] = df_part['latitudeE7'].rolling(10, center=True).var()\n",
    "\n",
    "df_part.plot(x='timestampMs', y='gps_var')"
   ]
  },
  {
   "cell_type": "code",
   "execution_count": null,
   "metadata": {},
   "outputs": [],
   "source": [
    "df_part.plot(x='timestampMs', y='latitudeE7')"
   ]
  },
  {
   "cell_type": "code",
   "execution_count": null,
   "metadata": {},
   "outputs": [],
   "source": [
    "df_part.plot(x='timestampMs', y='longitudeE7')"
   ]
  }
 ],
 "metadata": {
  "kernelspec": {
   "display_name": "Python 3",
   "language": "python",
   "name": "python3"
  },
  "language_info": {
   "codemirror_mode": {
    "name": "ipython",
    "version": 3
   },
   "file_extension": ".py",
   "mimetype": "text/x-python",
   "name": "python",
   "nbconvert_exporter": "python",
   "pygments_lexer": "ipython3",
   "version": "3.6.4"
  }
 },
 "nbformat": 4,
 "nbformat_minor": 2
}
