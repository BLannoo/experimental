{
 "cells": [
  {
   "cell_type": "code",
   "execution_count": null,
   "metadata": {},
   "outputs": [],
   "source": [
    "import json\n",
    "import pandas as pd\n",
    "import math\n",
    "import matplotlib.pyplot as plt\n",
    "import matplotlib as mpl\n",
    "from mpu import haversine_distance as mpu_distance\n",
    "\n",
    "%matplotlib inline"
   ]
  },
  {
   "cell_type": "code",
   "execution_count": null,
   "metadata": {},
   "outputs": [],
   "source": [
    "# reading the JSON data using json.load()\n",
    "file = './data/GoogleLocation2018.json'\n",
    "with open(file) as train_file:\n",
    "    data_json = json.load(train_file)\n",
    "    \n",
    "df = pd.DataFrame({'raw': data_json['locations']})"
   ]
  },
  {
   "cell_type": "code",
   "execution_count": null,
   "metadata": {},
   "outputs": [],
   "source": [
    "# Extract the base data\n",
    "df['timestampMs'] = df.apply(lambda row: int(row.raw['timestampMs']), axis=1)\n",
    "df['latitudeE7'] = df.apply(lambda row: row.raw['latitudeE7'] / 10_000_000, axis=1)\n",
    "df['longitudeE7'] = df.apply(lambda row: row.raw['longitudeE7'] / 10_000_000, axis=1)\n",
    "df['accuracy'] = df.apply(lambda row: row.raw['accuracy'], axis=1)\n",
    "\n",
    "# Derivatives of: timestampMs\n",
    "df['date'] = pd.to_datetime(df.timestampMs, unit='ms')\n",
    "df['year'] = df.apply(lambda row: row.date.year, axis=1)\n",
    "df['month'] = df.apply(lambda row: row.date.month, axis=1)\n",
    "df['day'] = df.apply(lambda row: row.date.day, axis=1)\n",
    "df['hour'] = df.apply(lambda row: row.date.hour, axis=1)\n",
    "\n",
    "df['time_of_day'] = (df.timestampMs % (1000*60*60*24)) / (1000*60*60)\n",
    "df['duration'] = (df.timestampMs.shift(1) - df.timestampMs.shift(-1))/ 2 / (1000*60*60)"
   ]
  },
  {
   "cell_type": "code",
   "execution_count": null,
   "metadata": {},
   "outputs": [],
   "source": [
    "# Derivatives of: latitudeE7 & longitudeE7\n",
    "lat_min_belgium = 49.496309\n",
    "lat_max_belgium = 51.506297\n",
    "long_min_belgium = 2.542484\n",
    "long_max_belgium = 6.408894\n",
    "df['in_belgium'] = df.apply(lambda row: \n",
    "                            (row.latitudeE7 > lat_min_belgium) & (row.latitudeE7 < lat_max_belgium)\n",
    "                            & (row.longitudeE7 > long_min_belgium) & (row.longitudeE7 < long_max_belgium)\n",
    "                            , axis=1)\n",
    "\n",
    "df['d_home']       = df.apply(lambda row: mpu_distance((50.8757, 4.6904), (row.latitudeE7, row.longitudeE7)), axis=1)\n",
    "df['d_squash']     = df.apply(lambda row: mpu_distance((50.8677, 4.7113), (row.latitudeE7, row.longitudeE7)), axis=1)\n",
    "df['d_curtis']     = df.apply(lambda row: mpu_distance((50.8808, 4.6933), (row.latitudeE7, row.longitudeE7)), axis=1)\n",
    "df['d_saman_new']  = df.apply(lambda row: mpu_distance((50.8798, 4.6882), (row.latitudeE7, row.longitudeE7)), axis=1)\n",
    "df['d_saman_old']  = df.apply(lambda row: mpu_distance((50.8831, 4.6900), (row.latitudeE7, row.longitudeE7)), axis=1)\n",
    "df['d_kunlabora']  = df.apply(lambda row: mpu_distance((50.8836, 4.7133), (row.latitudeE7, row.longitudeE7)), axis=1)\n",
    "df['d_cegeka']     = df.apply(lambda row: mpu_distance((50.8477, 4.7273), (row.latitudeE7, row.longitudeE7)), axis=1)\n",
    "df['d_maisuradze'] = df.apply(lambda row: mpu_distance((50.8292, 4.4518), (row.latitudeE7, row.longitudeE7)), axis=1)\n",
    "df['d_ensure']     = df.apply(lambda row: mpu_distance((50.8470, 4.3700), (row.latitudeE7, row.longitudeE7)), axis=1)\n",
    "df['d_famifed']    = df.apply(lambda row: mpu_distance((50.8410, 4.3740), (row.latitudeE7, row.longitudeE7)), axis=1)\n",
    "df['d_lannoo']     = df.apply(lambda row: mpu_distance((51.3207, 4.9262), (row.latitudeE7, row.longitudeE7)), axis=1)\n",
    "df['d_valthorens'] = df.apply(lambda row: mpu_distance((45.2970, 6.5787), (row.latitudeE7, row.longitudeE7)), axis=1)\n",
    "df['d_tbilisi']    = df.apply(lambda row: mpu_distance((41.4255, 44.456), (row.latitudeE7, row.longitudeE7)), axis=1)\n",
    "df['d_bangkok']    = df.apply(lambda row: mpu_distance((13.7526, 100.50), (row.latitudeE7, row.longitudeE7)), axis=1)\n"
   ]
  },
  {
   "cell_type": "code",
   "execution_count": null,
   "metadata": {},
   "outputs": [],
   "source": [
    "df['basis'] = df[[col for col in df.columns if 'd_' in col]].idxmin(axis=1)\n",
    "df['distance'] = df[[col for col in df.columns if 'd_' in col]].min(axis=1)"
   ]
  },
  {
   "cell_type": "code",
   "execution_count": null,
   "metadata": {},
   "outputs": [],
   "source": [
    "df[(df.in_belgium) & (df.distance < 0.1)] \\\n",
    "    .distance.hist(bins=100, figsize=(16, 10))"
   ]
  },
  {
   "cell_type": "code",
   "execution_count": null,
   "metadata": {},
   "outputs": [],
   "source": [
    "df.time_of_day.hist(bins=24*60, figsize=(16, 10))"
   ]
  },
  {
   "cell_type": "code",
   "execution_count": null,
   "metadata": {},
   "outputs": [],
   "source": [
    "df.plot(x='time_of_day', y='duration', alpha=0.2, kind='scatter', logy=True, figsize=(16, 10))"
   ]
  },
  {
   "cell_type": "code",
   "execution_count": null,
   "metadata": {},
   "outputs": [],
   "source": [
    "days = df.groupby(['year', 'month', 'day']).agg({\n",
    "        'latitudeE7': ['median', 'var'],\n",
    "        'longitudeE7': ['median', 'var']\n",
    "    })\n",
    "\n",
    "days.plot.box(logy=True, figsize=(16, 10))"
   ]
  },
  {
   "cell_type": "code",
   "execution_count": null,
   "metadata": {},
   "outputs": [],
   "source": [
    "plt.figure(figsize=(16, 10))\n",
    "_,_,_,img = plt.hist2d(\n",
    "    x=days.longitudeE7['median'], \n",
    "    y=days.latitudeE7['median'], \n",
    "    bins=100, \n",
    "    norm=mpl.colors.LogNorm()\n",
    ")"
   ]
  },
  {
   "cell_type": "code",
   "execution_count": null,
   "metadata": {},
   "outputs": [],
   "source": []
  }
 ],
 "metadata": {
  "kernelspec": {
   "display_name": "Python 3",
   "language": "python",
   "name": "python3"
  },
  "language_info": {
   "codemirror_mode": {
    "name": "ipython",
    "version": 3
   },
   "file_extension": ".py",
   "mimetype": "text/x-python",
   "name": "python",
   "nbconvert_exporter": "python",
   "pygments_lexer": "ipython3",
   "version": "3.6.4"
  }
 },
 "nbformat": 4,
 "nbformat_minor": 2
}
