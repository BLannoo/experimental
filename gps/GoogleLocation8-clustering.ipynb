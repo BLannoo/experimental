{
 "cells": [
  {
   "cell_type": "code",
   "execution_count": null,
   "metadata": {},
   "outputs": [],
   "source": [
    "import json\n",
    "import pandas as pd\n",
    "import geopandas as gpd\n",
    "from shapely.geometry import Point\n",
    "from geopandas import GeoDataFrame\n",
    "import matplotlib.pyplot as plt\n",
    "\n",
    "%matplotlib inline"
   ]
  },
  {
   "cell_type": "code",
   "execution_count": null,
   "metadata": {},
   "outputs": [],
   "source": [
    "# reading the JSON data using json.load()\n",
    "file = './data/GoogleLocation2018.json'\n",
    "with open(file) as train_file:\n",
    "    data_json = json.load(train_file)\n",
    "    \n",
    "df = pd.DataFrame({'raw': data_json['locations']})"
   ]
  },
  {
   "cell_type": "code",
   "execution_count": null,
   "metadata": {},
   "outputs": [],
   "source": [
    "# Extract the base data\n",
    "df['timeMs'] = df.apply(lambda row: int(row.raw['timestampMs']), axis=1)\n",
    "df['lat'] = df.apply(lambda row: row.raw['latitudeE7'] / 10_000_000, axis=1)\n",
    "df['lon'] = df.apply(lambda row: row.raw['longitudeE7'] / 10_000_000, axis=1)\n",
    "df['acc'] = df.apply(lambda row: row.raw['accuracy'], axis=1)\n",
    "\n",
    "df = df[df.acc < 100]\n",
    "\n",
    "df.drop(columns='raw', inplace=True)\n",
    "# Derivatives\n",
    "df['date'] = pd.to_datetime(df.timeMs, unit='ms')\n",
    "df['year'] = df.apply(lambda row: row.date.year, axis=1)\n",
    "df['month'] = df.apply(lambda row: row.date.month, axis=1)\n",
    "df['day'] = df.apply(lambda row: row.date.day, axis=1)\n",
    "df['hour'] = df.apply(lambda row: row.date.hour, axis=1)\n",
    "df['duration'] = (df.timeMs.shift(1) - df.timeMs.shift(-1))/ 2 / (1000*60*60)"
   ]
  },
  {
   "cell_type": "code",
   "execution_count": null,
   "metadata": {},
   "outputs": [],
   "source": [
    "geometry = [Point(xy) for xy in zip(df['lon'], df['lat'])]\n",
    "gdf = GeoDataFrame(df, geometry=geometry)\n",
    "\n",
    "# Setting the geometry by hand: http://geopandas.org/projections.html\n",
    "gdf.crs = {'init' :'epsg:4326'}"
   ]
  },
  {
   "cell_type": "code",
   "execution_count": null,
   "metadata": {},
   "outputs": [],
   "source": [
    "def counts(series):\n",
    "    return series.value_counts().to_json()"
   ]
  },
  {
   "cell_type": "code",
   "execution_count": null,
   "metadata": {},
   "outputs": [],
   "source": [
    "day_stats = gdf.groupby(['year', 'month', 'day']).agg({'lat': ['min', 'max', 'var'], 'lon': ['min', 'max', 'var']})"
   ]
  },
  {
   "cell_type": "code",
   "execution_count": null,
   "metadata": {},
   "outputs": [],
   "source": [
    "selection = day_stats[day_stats['lon']['var']!=0]\n",
    "\n",
    "selection.plot(x=2, y=5, logx=True, logy=True, alpha=0.4, figsize=(16, 10), kind='scatter')"
   ]
  }
 ],
 "metadata": {
  "kernelspec": {
   "display_name": "Python 3",
   "language": "python",
   "name": "python3"
  },
  "language_info": {
   "codemirror_mode": {
    "name": "ipython",
    "version": 3
   },
   "file_extension": ".py",
   "mimetype": "text/x-python",
   "name": "python",
   "nbconvert_exporter": "python",
   "pygments_lexer": "ipython3",
   "version": "3.6.4"
  }
 },
 "nbformat": 4,
 "nbformat_minor": 2
}
