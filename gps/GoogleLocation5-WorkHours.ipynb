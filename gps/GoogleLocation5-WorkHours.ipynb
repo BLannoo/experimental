{
 "cells": [
  {
   "cell_type": "code",
   "execution_count": null,
   "metadata": {},
   "outputs": [],
   "source": [
    "import json\n",
    "import pandas as pd\n",
    "import math\n",
    "import matplotlib.pyplot as plt\n",
    "import matplotlib as mpl\n",
    "\n",
    "%matplotlib inline"
   ]
  },
  {
   "cell_type": "code",
   "execution_count": null,
   "metadata": {},
   "outputs": [],
   "source": [
    "# reading the JSON data using json.load()\n",
    "file = './data/GoogleLocation2018.json'\n",
    "with open(file) as train_file:\n",
    "    data_json = json.load(train_file)\n",
    "    \n",
    "df = pd.DataFrame({'raw': data_json['locations']})"
   ]
  },
  {
   "cell_type": "code",
   "execution_count": null,
   "metadata": {},
   "outputs": [],
   "source": [
    "# Extract the base data\n",
    "df['timestampMs'] = df.apply(lambda row: int(row.raw['timestampMs']), axis=1)\n",
    "df['latitudeE7'] = df.apply(lambda row: row.raw['latitudeE7'], axis=1)\n",
    "df['longitudeE7'] = df.apply(lambda row: row.raw['longitudeE7'], axis=1)\n",
    "df['accuracy'] = df.apply(lambda row: row.raw['accuracy'], axis=1)\n",
    "\n",
    "# Derivatives\n",
    "df['date'] = pd.to_datetime(df.timestampMs, unit='ms')\n",
    "df['year'] = df.apply(lambda row: row.date.year, axis=1)\n",
    "df['month'] = df.apply(lambda row: row.date.month, axis=1)\n",
    "df['day'] = df.apply(lambda row: row.date.day, axis=1)\n",
    "df['hour'] = df.apply(lambda row: row.date.hour, axis=1)\n",
    "\n",
    "df['time_of_day'] = (df.timestampMs % (1000*60*60*24)) / (1000*60*60)"
   ]
  },
  {
   "cell_type": "markdown",
   "metadata": {},
   "source": [
    "### TODO add midnight data points for better day accuracy"
   ]
  },
  {
   "cell_type": "code",
   "execution_count": null,
   "metadata": {},
   "outputs": [],
   "source": [
    "# Remove low accuracy data points\n",
    "df = df[(df.accuracy <= 100)]\n",
    "\n",
    "# Duration dependent on the removed data points\n",
    "df['duration'] = (df.timestampMs.shift(1) - df.timestampMs.shift(-1))/ 2 / (1000*60*60)"
   ]
  },
  {
   "cell_type": "code",
   "execution_count": null,
   "metadata": {},
   "outputs": [],
   "source": [
    "df.head()"
   ]
  },
  {
   "cell_type": "code",
   "execution_count": null,
   "metadata": {},
   "outputs": [],
   "source": [
    "df.groupby(['year', 'month', 'day']).agg({'duration': ['sum']})"
   ]
  },
  {
   "cell_type": "code",
   "execution_count": null,
   "metadata": {},
   "outputs": [],
   "source": [
    "min_x_kunlabora = 47_126_000\n",
    "max_x_kunlabora = 47_140_000\n",
    "min_y_kunlabora = 508_831_000\n",
    "max_y_kunlabora = 508_838_000\n",
    "\n",
    "def at_kunlabora(row):\n",
    "    selection_long = (row['longitudeE7']>min_x_kunlabora) & (row['longitudeE7']<max_x_kunlabora)\n",
    "    selection_lat = (row['latitudeE7']>min_y_kunlabora) & (row['latitudeE7']<max_y_kunlabora)\n",
    "    return selection_long & selection_lat\n",
    "\n",
    "df['at_kunlabora'] = df.apply(lambda row: at_kunlabora(row), axis=1)\n",
    "\n",
    "plt.figure(figsize=(16, 10))\n",
    "_,_,_,img = plt.hist2d(x=df[df['at_kunlabora']==1].longitudeE7, y=df[df['at_kunlabora']==1].latitudeE7, bins=25, norm=mpl.colors.LogNorm())"
   ]
  },
  {
   "cell_type": "code",
   "execution_count": null,
   "metadata": {},
   "outputs": [],
   "source": [
    "df[df.at_kunlabora].groupby(['year', 'month', 'day', 'at_kunlabora']).agg({'duration': ['sum']}).hist(figsize=(16, 10))"
   ]
  }
 ],
 "metadata": {
  "kernelspec": {
   "display_name": "Python 3",
   "language": "python",
   "name": "python3"
  },
  "language_info": {
   "codemirror_mode": {
    "name": "ipython",
    "version": 3
   },
   "file_extension": ".py",
   "mimetype": "text/x-python",
   "name": "python",
   "nbconvert_exporter": "python",
   "pygments_lexer": "ipython3",
   "version": "3.6.4"
  }
 },
 "nbformat": 4,
 "nbformat_minor": 2
}
