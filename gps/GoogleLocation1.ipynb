{
 "cells": [
  {
   "cell_type": "code",
   "execution_count": null,
   "metadata": {},
   "outputs": [],
   "source": [
    "import json\n",
    "import pandas as pd\n",
    "import math\n",
    "\n",
    "%matplotlib inline"
   ]
  },
  {
   "cell_type": "markdown",
   "metadata": {},
   "source": [
    "### Commandos to remember"
   ]
  },
  {
   "cell_type": "code",
   "execution_count": null,
   "metadata": {
    "scrolled": true
   },
   "outputs": [],
   "source": [
    "help(pd)"
   ]
  },
  {
   "cell_type": "markdown",
   "metadata": {},
   "source": [
    "# Loading the data"
   ]
  },
  {
   "cell_type": "code",
   "execution_count": null,
   "metadata": {},
   "outputs": [],
   "source": [
    "# reading the JSON data using json.load()\n",
    "file = './data/GoogleLocation.json'\n",
    "with open(file) as train_file:\n",
    "    data_json = json.load(train_file)"
   ]
  },
  {
   "cell_type": "code",
   "execution_count": null,
   "metadata": {},
   "outputs": [],
   "source": [
    "# show the raw data\n",
    "data_json"
   ]
  },
  {
   "cell_type": "code",
   "execution_count": null,
   "metadata": {},
   "outputs": [],
   "source": [
    "# create the data frame\n",
    "#df = pd.DataFrame({'raw': data_json['locations']})\n",
    "df = pd.DataFrame({'raw': data_json['locations']})\n",
    "\n",
    "# Verify number of data points\n",
    "df.size"
   ]
  },
  {
   "cell_type": "code",
   "execution_count": null,
   "metadata": {},
   "outputs": [],
   "source": [
    "df.head()"
   ]
  },
  {
   "cell_type": "markdown",
   "metadata": {},
   "source": [
    "# Extracting the basic data (timestamp, latitude, longitude, ...)"
   ]
  },
  {
   "cell_type": "code",
   "execution_count": null,
   "metadata": {},
   "outputs": [],
   "source": [
    "# Extract the base data\n",
    "df['timestampMs'] = df.apply(lambda row: int(row['raw']['timestampMs']), axis=1)\n",
    "df['latitudeE7'] = df.apply(lambda row: row['raw']['latitudeE7'], axis=1)\n",
    "df['longitudeE7'] = df.apply(lambda row: row['raw']['longitudeE7'], axis=1)\n",
    "df['accuracy'] = df.apply(lambda row: row['raw']['accuracy'], axis=1)\n",
    "\n",
    "# Derivatives\n",
    "df['date'] = pd.to_datetime(df['timestampMs'], unit='ms')\n",
    "df['year'] = df.apply(lambda row: row['date'].year, axis=1)\n",
    "df['month'] = df.apply(lambda row: row['date'].month, axis=1)\n",
    "df['day'] = df.apply(lambda row: row['date'].day, axis=1)\n",
    "\n",
    "df['time_of_day'] = (df['timestampMs'] % (1000*60*60*24)) / (1000*60*60)\n",
    "df['date_diff'] = df['timestampMs'].diff()*-1\n",
    "\n",
    "df.tail(10)"
   ]
  },
  {
   "cell_type": "code",
   "execution_count": null,
   "metadata": {},
   "outputs": [],
   "source": [
    "df.hist(column=['time_of_day'], bins=100)"
   ]
  },
  {
   "cell_type": "markdown",
   "metadata": {},
   "source": [
    "# Plotting the locations"
   ]
  },
  {
   "cell_type": "code",
   "execution_count": null,
   "metadata": {},
   "outputs": [],
   "source": [
    "df.plot(x='longitudeE7', y='latitudeE7', figsize=(16, 10), kind='scatter')"
   ]
  },
  {
   "cell_type": "code",
   "execution_count": null,
   "metadata": {},
   "outputs": [],
   "source": []
  },
  {
   "cell_type": "code",
   "execution_count": null,
   "metadata": {},
   "outputs": [],
   "source": [
    "df.boxplot(column=['accuracy'], showfliers=False)"
   ]
  },
  {
   "cell_type": "code",
   "execution_count": null,
   "metadata": {},
   "outputs": [],
   "source": [
    "df.boxplot(column=['date_diff'], showfliers=False)"
   ]
  },
  {
   "cell_type": "markdown",
   "metadata": {},
   "source": [
    "# Activity"
   ]
  },
  {
   "cell_type": "code",
   "execution_count": null,
   "metadata": {},
   "outputs": [],
   "source": [
    "# show the raw data\n",
    "data_json"
   ]
  },
  {
   "cell_type": "code",
   "execution_count": null,
   "metadata": {},
   "outputs": [],
   "source": [
    "selected_data = data_json['locations'][0:1000]\n",
    "\n",
    "def extract_activities(i):\n",
    "    activity = selected_data[i].get('activity')\n",
    "    \n",
    "    # No activity registered\n",
    "    if(activity == None):\n",
    "        return []\n",
    "    \n",
    "    return [[i, j] for j in range(0, len(activity))]\n",
    "\n",
    "activities = [activity for i in range(0, len(selected_data)) for activity in extract_activities(i)]\n",
    "\n",
    "df_activities = pd.DataFrame({'source': activities})\n",
    "\n",
    "df_activities.head()"
   ]
  },
  {
   "cell_type": "code",
   "execution_count": null,
   "metadata": {},
   "outputs": [],
   "source": [
    "def to_date(timestamp):\n",
    "    return pd.to_datetime(timestamp, unit='ms')\n",
    "\n",
    "df_activities['gps_i'] = df_activities.apply(lambda row: row['source'][0], axis=1)\n",
    "df_activities['act_i'] = df_activities.apply(lambda row: row['source'][1], axis=1)\n",
    "df_activities['gps_time'] = df_activities.apply(lambda row: selected_data[row['gps_i']]['timestampMs'], axis=1)\n",
    "df_activities['gps_time_next'] = df_activities.apply(lambda row: selected_data[row['gps_i']-1]['timestampMs'], axis=1)\n",
    "df_activities['gps_time_prev'] = df_activities.apply(lambda row: selected_data[row['gps_i']+1]['timestampMs'], axis=1)\n",
    "\n",
    "df_activities['raw'] = df_activities.apply(lambda row: selected_data[row['gps_i']]['activity'][row['act_i']], axis=1)\n",
    "df_activities['act_time'] = df_activities.apply(lambda row: row['raw']['timestampMs'], axis=1)\n",
    "\n",
    "df_activities['gps_min_act'] = df_activities.apply(lambda row: int(row['gps_time'])-int(row['act_time']), axis=1)\n",
    "df_activities['gps_prev_min_act'] = df_activities.apply(lambda row: int(row['gps_time_prev'])-int(row['act_time']), axis=1)\n",
    "df_activities['gps_next_min_act'] = df_activities.apply(lambda row: int(row['gps_time_next'])-int(row['act_time']), axis=1)\n",
    "\n",
    "df_activities.head()"
   ]
  },
  {
   "cell_type": "code",
   "execution_count": null,
   "metadata": {},
   "outputs": [],
   "source": [
    "df_activities.boxplot(column=['gps_min_act', 'gps_prev_min_act', 'gps_next_min_act'], showfliers=False)"
   ]
  },
  {
   "cell_type": "code",
   "execution_count": null,
   "metadata": {},
   "outputs": [],
   "source": [
    "# Count the number of activities per gps log\n",
    "\n",
    "def activity_count(raw):\n",
    "    activity = raw.get('activity')\n",
    "    \n",
    "    # No activity registered\n",
    "    if(activity == None):\n",
    "        return None\n",
    "    \n",
    "    return len(activity)\n",
    "\n",
    "df['activity_count'] = df.apply(lambda row: activity_count(row['raw']), axis=1)\n",
    "\n",
    "df.boxplot(column=['activity_count'])"
   ]
  },
  {
   "cell_type": "code",
   "execution_count": null,
   "metadata": {},
   "outputs": [],
   "source": [
    "# Collect all the different kinds of activities (checked on full data set)\n",
    "\n",
    "def activity_filter(raw):\n",
    "    activity = raw.get('activity')\n",
    "    \n",
    "    # No activity registered\n",
    "    if(activity == None):\n",
    "        return 1\n",
    "    \n",
    "    # Checked on full data set (does not contain extra activity types)\n",
    "    known = ['UNKNOWN', 'TILTING', 'STILL', 'ON_FOOT', 'IN_VEHICLE', 'WALKING', 'IN_RAIL_VEHICLE', 'IN_ROAD_VEHICLE', 'ON_BICYCLE', 'RUNNING', 'EXITING_VEHICLE']\n",
    "    \n",
    "    for i in range(0, len(activity)):\n",
    "        selected = activity[i]['activity']\n",
    "        for j in range(0, len(selected)):\n",
    "            if(selected[j]['type'] not in known):\n",
    "                return selected[j]['type']\n",
    "    \n",
    "    return 2\n",
    "\n",
    "df['activity_filter'] = df.apply(lambda row: activity_filter(row['raw']), axis=1)\n",
    "\n",
    "counts = df['activity_filter'].value_counts()\n",
    "counts.plot(kind = 'pie', y = 'N');"
   ]
  },
  {
   "cell_type": "code",
   "execution_count": null,
   "metadata": {},
   "outputs": [],
   "source": [
    "# Work in progress: select the most appropriate activity\n",
    "\n",
    "def activity(raw):\n",
    "    activity = raw.get('activity')\n",
    "    \n",
    "    # No activity registered\n",
    "    if(activity == None):\n",
    "        return None\n",
    "    \n",
    "    attempt = activity[0]['activity'][0]\n",
    "    if(attempt['type'] == 'UNKNOWN'):\n",
    "        attempt = activity[0]['activity'][1]\n",
    "    return attempt\n",
    "\n",
    "df['activity'] = df.apply(lambda row: activity(row['raw']), axis=1)"
   ]
  }
 ],
 "metadata": {
  "kernelspec": {
   "display_name": "Python 3",
   "language": "python",
   "name": "python3"
  },
  "language_info": {
   "codemirror_mode": {
    "name": "ipython",
    "version": 3
   },
   "file_extension": ".py",
   "mimetype": "text/x-python",
   "name": "python",
   "nbconvert_exporter": "python",
   "pygments_lexer": "ipython3",
   "version": "3.6.4"
  }
 },
 "nbformat": 4,
 "nbformat_minor": 2
}
