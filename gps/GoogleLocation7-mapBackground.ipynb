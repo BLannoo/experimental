{
 "cells": [
  {
   "cell_type": "code",
   "execution_count": null,
   "metadata": {},
   "outputs": [],
   "source": [
    "import json\n",
    "import pandas as pd\n",
    "import geopandas as gpd\n",
    "from shapely.geometry import Point\n",
    "from geopandas import GeoDataFrame\n",
    "import matplotlib.pyplot as plt\n",
    "\n",
    "%matplotlib inline"
   ]
  },
  {
   "cell_type": "code",
   "execution_count": null,
   "metadata": {},
   "outputs": [],
   "source": [
    "gpd.datasets.get_path('naturalearth_lowres')"
   ]
  },
  {
   "cell_type": "code",
   "execution_count": null,
   "metadata": {},
   "outputs": [],
   "source": [
    "world = gpd.read_file(gpd.datasets.get_path('naturalearth_lowres'))\n",
    "world.drop(columns=['pop_est', 'gdp_md_est'], inplace=True)"
   ]
  },
  {
   "cell_type": "code",
   "execution_count": null,
   "metadata": {},
   "outputs": [],
   "source": [
    "world.plot(cmap='Set3', figsize=(10, 6))"
   ]
  },
  {
   "cell_type": "code",
   "execution_count": null,
   "metadata": {},
   "outputs": [],
   "source": [
    "# reading the JSON data using json.load()\n",
    "file = './data/GoogleLocation2018.json'\n",
    "with open(file) as train_file:\n",
    "    data_json = json.load(train_file)\n",
    "    \n",
    "df = pd.DataFrame({'raw': data_json['locations']})"
   ]
  },
  {
   "cell_type": "code",
   "execution_count": null,
   "metadata": {},
   "outputs": [],
   "source": [
    "# Extract the base data\n",
    "df['timeMs'] = df.apply(lambda row: int(row.raw['timestampMs']), axis=1)\n",
    "df['lat'] = df.apply(lambda row: row.raw['latitudeE7'] / 10_000_000, axis=1)\n",
    "df['lon'] = df.apply(lambda row: row.raw['longitudeE7'] / 10_000_000, axis=1)\n",
    "df['acc'] = df.apply(lambda row: row.raw['accuracy'], axis=1)\n",
    "\n",
    "df.drop(columns='raw', inplace=True)\n",
    "# Derivatives\n",
    "df['date'] = pd.to_datetime(df.timeMs, unit='ms')\n",
    "df['year'] = df.apply(lambda row: row.date.year, axis=1)\n",
    "df['month'] = df.apply(lambda row: row.date.month, axis=1)\n",
    "df['day'] = df.apply(lambda row: row.date.day, axis=1)\n",
    "df['duration'] = (df.timeMs.shift(1) - df.timeMs.shift(-1))/ 2 / (1000*60*60)"
   ]
  },
  {
   "cell_type": "code",
   "execution_count": null,
   "metadata": {},
   "outputs": [],
   "source": [
    "geometry = [Point(xy) for xy in zip(df['lon'], df['lat'])]\n",
    "gdf = GeoDataFrame(df, geometry=geometry)\n",
    "\n",
    "# Setting the geometry by hand: http://geopandas.org/projections.html\n",
    "gdf.crs = {'init' :'epsg:4326'}"
   ]
  },
  {
   "cell_type": "code",
   "execution_count": null,
   "metadata": {
    "scrolled": true
   },
   "outputs": [],
   "source": [
    "gdf.plot(ax=world.plot(facecolor='lightgray', edgecolor='gray', figsize=(10, 6)),\n",
    "             marker='o', color='red', markersize=15);\n",
    "\n",
    "bounds = gdf.geometry.bounds\n",
    "\n",
    "plt.xlim([bounds.minx.min()-5, bounds.maxx.max()+5])\n",
    "plt.ylim([bounds.miny.min()-5, bounds.maxy.max()+5]);"
   ]
  },
  {
   "cell_type": "code",
   "execution_count": null,
   "metadata": {},
   "outputs": [],
   "source": [
    "gdf.plot(ax=world.plot(facecolor='lightgray', edgecolor='gray', figsize=(10, 6)),\n",
    "             marker='o', color='red', markersize=15);\n",
    "\n",
    "bounds = gdf[gdf.lon < 20].geometry.bounds\n",
    "\n",
    "plt.xlim([bounds.minx.min()-2, bounds.maxx.max()+2])\n",
    "plt.ylim([bounds.miny.min()-2, bounds.maxy.max()+2]);"
   ]
  },
  {
   "cell_type": "code",
   "execution_count": null,
   "metadata": {},
   "outputs": [],
   "source": [
    "gdf.plot(ax=world.plot(facecolor='lightgray', edgecolor='gray', figsize=(10, 6)),\n",
    "             marker='o', color='red', markersize=15);\n",
    "\n",
    "bounds = gdf[gdf.lon > 80].geometry.bounds\n",
    "\n",
    "plt.xlim([bounds.minx.min()-2, bounds.maxx.max()+2])\n",
    "plt.ylim([bounds.miny.min()-2, bounds.maxy.max()+2]);"
   ]
  },
  {
   "cell_type": "code",
   "execution_count": null,
   "metadata": {},
   "outputs": [],
   "source": [
    "gdf.plot(ax=world.plot(facecolor='lightgray', edgecolor='gray', figsize=(10, 6)),\n",
    "             marker='o', color='red', markersize=15);\n",
    "\n",
    "bounds = gdf[(gdf.lon > 30) & (gdf.lon < 45)].geometry.bounds\n",
    "\n",
    "plt.xlim([bounds.minx.min()-2, bounds.maxx.max()+2])\n",
    "plt.ylim([bounds.miny.min()-2, bounds.maxy.max()+2]);"
   ]
  },
  {
   "cell_type": "code",
   "execution_count": null,
   "metadata": {},
   "outputs": [],
   "source": [
    "gdf = gpd.sjoin(gdf, world, how='inner', op='intersects')\n",
    "\n",
    "gdf.drop(columns='index_right', inplace=True)\n",
    "\n",
    "gdf.rename(index=str, columns={'name': 'country'}, inplace=True)"
   ]
  },
  {
   "cell_type": "code",
   "execution_count": null,
   "metadata": {},
   "outputs": [],
   "source": [
    "country_summary = gdf.groupby('country').agg({'duration': 'sum'})\n",
    "\n",
    "tot_duration = country_summary.duration.sum()\n",
    "\n",
    "country_summary['%'] = country_summary.apply(lambda row: row.duration/tot_duration * 100, axis=1)\n",
    "\n",
    "country_summary.sort_values('duration', ascending=False)"
   ]
  },
  {
   "cell_type": "code",
   "execution_count": null,
   "metadata": {},
   "outputs": [],
   "source": [
    "gdf.head()"
   ]
  },
  {
   "cell_type": "code",
   "execution_count": null,
   "metadata": {},
   "outputs": [],
   "source": [
    "gdf[gdf.country == 'Belgium'] \\\n",
    "    .plot(ax=world.plot(facecolor='lightgray', edgecolor='gray', figsize=(10, 6)),\n",
    "             marker='o', color='red', markersize=15);\n",
    "\n",
    "bounds = gdf[gdf.country == 'Belgium'].geometry.bounds\n",
    "\n",
    "plt.xlim([bounds.minx.min()-2, bounds.maxx.max()+2])\n",
    "plt.ylim([bounds.miny.min()-2, bounds.maxy.max()+2]);"
   ]
  },
  {
   "cell_type": "code",
   "execution_count": null,
   "metadata": {},
   "outputs": [],
   "source": [
    "mode = lambda x: x.mode() if len(x) > 2 else np.array(x)\n",
    "\n",
    "gdf[gdf.country != 'Belgium'].groupby(['year', 'month', 'day']).country.agg(mode)"
   ]
  }
 ],
 "metadata": {
  "kernelspec": {
   "display_name": "Python 3",
   "language": "python",
   "name": "python3"
  },
  "language_info": {
   "codemirror_mode": {
    "name": "ipython",
    "version": 3
   },
   "file_extension": ".py",
   "mimetype": "text/x-python",
   "name": "python",
   "nbconvert_exporter": "python",
   "pygments_lexer": "ipython3",
   "version": "3.6.4"
  }
 },
 "nbformat": 4,
 "nbformat_minor": 2
}
