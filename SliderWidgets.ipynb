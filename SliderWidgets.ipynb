{
 "cells": [
  {
   "cell_type": "code",
   "execution_count": null,
   "metadata": {},
   "outputs": [],
   "source": [
    "import ipywidgets as widgets\n",
    "from IPython.display import display\n",
    "import matplotlib.pyplot as plt\n",
    "import numpy as np\n",
    "\n",
    "%matplotlib nbagg"
   ]
  },
  {
   "cell_type": "code",
   "execution_count": null,
   "metadata": {},
   "outputs": [],
   "source": [
    "$A = amplitude$\n",
    "\n",
    "$\\phi = phase$\n",
    "\n",
    "$\\nu = frequency$\n",
    "\n",
    "$A \\sin(2 \\pi(\\nu x + \\phi))$"
   ]
  },
  {
   "cell_type": "code",
   "execution_count": null,
   "metadata": {},
   "outputs": [],
   "source": [
    "x = np.linspace(0, 2, 1000)\n",
    "fig, ax = plt.subplots(1, figsize=(10, 4))\n",
    "plt.suptitle('Sine wave')\n",
    "\n",
    "def update_plot(amp, phase, freq):\n",
    "    ax.clear()\n",
    "    y = amp * np.sin(2 * np.pi * (freq * x + phase))\n",
    "    ax.plot(x, y)\n",
    "    plt.show()\n",
    "    \n",
    "amp = widgets.FloatSlider(min=1, max=10, value=1, description='Amp:')\n",
    "phase = widgets.FloatSlider(min=0, max=5, value=0, description='Phase:')\n",
    "freq = widgets.FloatSlider(min=1, max=10, value=1, description='Freq:')\n",
    "\n",
    "widgets.interactive(update_plot, amp=amp, phase=phase, freq=freq)"
   ]
  },
  {
   "cell_type": "code",
   "execution_count": null,
   "metadata": {},
   "outputs": [],
   "source": []
  },
  {
   "cell_type": "code",
   "execution_count": null,
   "metadata": {},
   "outputs": [],
   "source": []
  }
 ],
 "metadata": {
  "kernelspec": {
   "display_name": "Python 3",
   "language": "python",
   "name": "python3"
  },
  "language_info": {
   "codemirror_mode": {
    "name": "ipython",
    "version": 3
   },
   "file_extension": ".py",
   "mimetype": "text/x-python",
   "name": "python",
   "nbconvert_exporter": "python",
   "pygments_lexer": "ipython3",
   "version": "3.6.4"
  }
 },
 "nbformat": 4,
 "nbformat_minor": 2
}
