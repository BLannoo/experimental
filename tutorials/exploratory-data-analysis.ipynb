{
 "cells": [
  {
   "cell_type": "markdown",
   "metadata": {},
   "source": [
    "https://towardsdatascience.com/a-starter-pack-to-exploratory-data-analysis-with-python-pandas-seaborn-and-scikit-learn-a77889485baf\n",
    "\n",
    "# A Starter Pack to Exploratory Data Analysis with Python, pandas, seaborn, and scikit-learn\n",
    "\n",
    "## 1. What is Data\n",
    "https://drive.mindmup.com/map/1ibxiwNDkPfGwMRZ0utIjBIoyQoVtMD2m\n",
    "\n",
    "## 2. Categorical Analysis"
   ]
  },
  {
   "cell_type": "code",
   "execution_count": null,
   "metadata": {},
   "outputs": [],
   "source": [
    "%ls"
   ]
  },
  {
   "cell_type": "code",
   "execution_count": null,
   "metadata": {},
   "outputs": [],
   "source": [
    "import os\n",
    "import numpy as np\n",
    "import pandas as pd\n",
    "import seaborn as sns\n",
    "import matplotlib.pyplot as plt"
   ]
  },
  {
   "cell_type": "code",
   "execution_count": null,
   "metadata": {},
   "outputs": [],
   "source": [
    "train_df = pd.read_csv(\"data/titanic/train.csv\")\n",
    "train_df.head()"
   ]
  },
  {
   "cell_type": "code",
   "execution_count": null,
   "metadata": {},
   "outputs": [],
   "source": [
    "train_df.describe()"
   ]
  },
  {
   "cell_type": "code",
   "execution_count": null,
   "metadata": {},
   "outputs": [],
   "source": [
    "train_df.info()"
   ]
  },
  {
   "cell_type": "code",
   "execution_count": null,
   "metadata": {},
   "outputs": [],
   "source": [
    "def categorical_summarized(dataframe, x=None, y=None, hue=None, palette='Set1', verbose=True):\n",
    "    '''\n",
    "    Helper function that gives a quick summary of a given column of categorical data\n",
    "\n",
    "    Arguments\n",
    "    =========\n",
    "    dataframe: pandas dataframe\n",
    "    x: str. horizontal axis to plot the labels of categorical data, y would be the count\n",
    "    y: str. vertical axis to plot the labels of categorical data, x would be the count\n",
    "    hue: str. if you want to compare it another variable (usually the target variable)\n",
    "    palette: array-like. Colour of the plot\n",
    "\n",
    "    Returns\n",
    "    =======\n",
    "    Quick Stats of the data and also the count plot\n",
    "    '''\n",
    "    if x == None:\n",
    "        column_interested = y\n",
    "    else:\n",
    "        column_interested = x\n",
    "    series = dataframe[column_interested]\n",
    "    print(series.describe())\n",
    "    print('mode: ', series.mode())\n",
    "    if verbose:\n",
    "        print('='*80)\n",
    "        print(series.value_counts())\n",
    "\n",
    "    sns.countplot(x=x, y=y, hue=hue, data=dataframe, palette=palette)\n",
    "    plt.show()"
   ]
  },
  {
   "cell_type": "code",
   "execution_count": null,
   "metadata": {},
   "outputs": [],
   "source": [
    "# Target Variable: Survival\n",
    "c_palette = ['tab:blue', 'tab:orange']\n",
    "categorical_summarized(train_df, y = 'Survived', palette=c_palette)"
   ]
  },
  {
   "cell_type": "code",
   "execution_count": null,
   "metadata": {},
   "outputs": [],
   "source": [
    "# Feature Variable: Gender\n",
    "categorical_summarized(train_df, y = 'Sex', hue='Survived', palette=c_palette)"
   ]
  },
  {
   "cell_type": "code",
   "execution_count": null,
   "metadata": {},
   "outputs": [],
   "source": [
    "def quantitative_summarized(dataframe, x=None, y=None, hue=None, palette='Set1', ax=None, verbose=True, swarm=False):\n",
    "    '''\n",
    "    Helper function that gives a quick summary of quantattive data\n",
    "    Arguments\n",
    "    =========\n",
    "    dataframe: pandas dataframe\n",
    "    x: str. horizontal axis to plot the labels of categorical data (usually the target variable)\n",
    "    y: str. vertical axis to plot the quantitative data\n",
    "    hue: str. if you want to compare it another categorical variable (usually the target variable if x is another variable)\n",
    "    palette: array-like. Colour of the plot\n",
    "    swarm: if swarm is set to True, a swarm plot would be overlayed\n",
    "    Returns\n",
    "    =======\n",
    "    Quick Stats of the data and also the box plot of the distribution\n",
    "    '''\n",
    "    series = dataframe[y]\n",
    "    print(series.describe())\n",
    "    print('mode: ', series.mode())\n",
    "    if verbose:\n",
    "        print('='*80)\n",
    "        print(series.value_counts())\n",
    "\n",
    "    sns.boxplot(x=x, y=y, hue=hue, data=dataframe, palette=palette, ax=ax)\n",
    "\n",
    "    if swarm:\n",
    "        sns.swarmplot(x=x, y=y, hue=hue, data=dataframe,\n",
    "                      palette=palette, ax=ax)\n",
    "        \n",
    "    plt.show()"
   ]
  },
  {
   "cell_type": "code",
   "execution_count": null,
   "metadata": {},
   "outputs": [],
   "source": [
    "# univariate analysis\n",
    "quantitative_summarized(dataframe= train_df, y = 'Age', palette=c_palette, verbose=False, swarm=True)"
   ]
  },
  {
   "cell_type": "code",
   "execution_count": null,
   "metadata": {},
   "outputs": [],
   "source": [
    "# bivariate analysis with target variable\n",
    "quantitative_summarized(dataframe= train_df, y = 'Age', x = 'Survived', palette=c_palette, verbose=False, swarm=True)"
   ]
  },
  {
   "cell_type": "code",
   "execution_count": null,
   "metadata": {},
   "outputs": [],
   "source": [
    "# multivariate analysis with Embarked variable and Pclass variable\n",
    "quantitative_summarized(dataframe= train_df, y = 'Age', x = 'Embarked', hue = 'Pclass', verbose=False, swarm=False)"
   ]
  },
  {
   "cell_type": "code",
   "execution_count": null,
   "metadata": {},
   "outputs": [],
   "source": [
    "from sklearn.cluster import KMeans\n",
    "from sklearn import preprocessing\n",
    "from sklearn.preprocessing import LabelEncoder\n",
    "from sklearn.model_selection import train_test_split\n",
    "from sklearn.pipeline import make_pipeline"
   ]
  },
  {
   "cell_type": "code",
   "execution_count": null,
   "metadata": {},
   "outputs": [],
   "source": [
    "def simple_preprocessing(dataframe, train=True):\n",
    "    le = LabelEncoder()\n",
    "    X = dataframe.drop(['PassengerId', 'Cabin', 'Name', 'Ticket'], axis=1)\n",
    "    X['Age'] = X['Age'].fillna(value=X['Age'].mode()[0])\n",
    "    X['Embarked'] = le.fit_transform(X['Embarked'].fillna(value=X['Embarked'].mode()[0]))\n",
    "    X['Sex'] = np.where(X['Sex'] == 'male', 1, 0)\n",
    "    \n",
    "    if train:\n",
    "        X = X.drop(['Survived'], axis=1)\n",
    "        y = np.where(dataframe['Survived'] == 1, 'Alive', 'Dead')\n",
    "        y = pd.get_dummies(y, columns=['Survived'])\n",
    "        return X, y\n",
    "    else:\n",
    "        return X"
   ]
  },
  {
   "cell_type": "code",
   "execution_count": null,
   "metadata": {},
   "outputs": [],
   "source": [
    "samples = simple_preprocessing(train_df, train = False)"
   ]
  },
  {
   "cell_type": "code",
   "execution_count": null,
   "metadata": {},
   "outputs": [],
   "source": [
    "samples.head()"
   ]
  },
  {
   "cell_type": "code",
   "execution_count": null,
   "metadata": {},
   "outputs": [],
   "source": [
    "# inertias plot\n",
    "# good k is a low inertia (how tight the data is in a cluster) and not too high\n",
    "\n",
    "# Select Scaler\n",
    "scaler = preprocessing.MinMaxScaler()\n",
    "# scaler = preprocessing.RobustScaler()\n",
    "# scaler = preprocessing.StandardScaler()\n",
    "\n",
    "samples = scaler.fit_transform(samples)\n",
    "ks = range(1,10)\n",
    "inertias = []\n",
    "\n",
    "for k in ks:\n",
    "    k_mean = KMeans(n_clusters=k)\n",
    "    k_mean.fit(samples)\n",
    "    inertias.append(k_mean.inertia_)\n",
    "\n",
    "plt.plot(ks, inertias, '-o', c = 'b')\n",
    "# plt.title('Inertia Plot')\n",
    "plt.xlabel('Number of clusters, k')\n",
    "plt.ylabel('Inertia')\n",
    "plt.xticks(ks)\n",
    "print('Inertial of clusters: ', k_mean.inertia_)\n",
    "plt.show()"
   ]
  },
  {
   "cell_type": "code",
   "execution_count": null,
   "metadata": {},
   "outputs": [],
   "source": [
    "samples = simple_preprocessing(train_df, train = False)\n",
    "# Select Scaler\n",
    "scaler = preprocessing.MinMaxScaler()\n",
    "# scaler = preprocessing.RobustScaler()\n",
    "# scaler = preprocessing.StandardScaler()\n",
    "\n",
    "k_mean = KMeans(n_clusters=2)\n",
    "\n",
    "sample_train,sample_val, gt_train, gt_val = train_test_split(samples, \n",
    "                                                                    train_df['Survived'],\n",
    "                                                             test_size=0.2, random_state=99)\n",
    "\n",
    "pipeline = make_pipeline(scaler, k_mean)\n",
    "# labels = k_mean.predict(samples)\n",
    "# centroids = k_mean.cluster_centers_\n",
    "# centroids_x = centroids[:,0]\n",
    "# centroids_y = centroids[:,1]\n",
    "pipeline.fit(sample_train)\n",
    "labels = pipeline.predict(sample_val)\n",
    "print('Inertial of clusters: ', k_mean.inertia_)"
   ]
  },
  {
   "cell_type": "code",
   "execution_count": null,
   "metadata": {},
   "outputs": [],
   "source": [
    "ct_df = pd.DataFrame({'labels': labels, 'survived': gt_val})\n",
    "# create crosstb\n",
    "ct = pd.crosstab(ct_df['labels'], ct_df['survived'])\n",
    "print(ct)"
   ]
  },
  {
   "cell_type": "code",
   "execution_count": null,
   "metadata": {},
   "outputs": [],
   "source": [
    "import matplotlib as mpl\n",
    "fig = plt.figure(figsize = (8,10))\n",
    "mpl.rcParams['image.cmap'] = 'jet'\n",
    "labels = pipeline.predict(sample_train)\n",
    "x_label = 'Survived'\n",
    "y_label = 'Age'\n",
    "\n",
    "plt.scatter(sample_train[x_label], sample_train[y_label], c = labels, alpha = 0.3)\n",
    "plt.xlabel(x_label)\n",
    "plt.xticks(sample_train[x_label])\n",
    "plt.ylabel(y_label)\n",
    "plt.show()"
   ]
  },
  {
   "cell_type": "code",
   "execution_count": null,
   "metadata": {},
   "outputs": [],
   "source": [
    "from scipy.cluster.hierarchy import linkage\n",
    "from scipy.cluster.hierarchy import dendrogram"
   ]
  },
  {
   "cell_type": "code",
   "execution_count": null,
   "metadata": {},
   "outputs": [],
   "source": [
    "sample_train,sample_val, gt_train, gt_val = train_test_split(\n",
    "    train_df, \n",
    "    train_df['Survived'],\n",
    "    test_size=0.05, \n",
    "    random_state=99\n",
    ")"
   ]
  },
  {
   "cell_type": "code",
   "execution_count": null,
   "metadata": {},
   "outputs": [],
   "source": [
    "sample_val_processed = simple_preprocessing(sample_val, train = False)\n",
    "sample_val_processed = scaler.fit_transform(sample_val_processed)"
   ]
  },
  {
   "cell_type": "code",
   "execution_count": null,
   "metadata": {},
   "outputs": [],
   "source": [
    "mergings = linkage(sample_val_processed, method='complete')"
   ]
  },
  {
   "cell_type": "code",
   "execution_count": null,
   "metadata": {},
   "outputs": [],
   "source": [
    "fig = plt.figure(figsize = (16,10))\n",
    "dendrogram(mergings,\n",
    "           labels=np.array(sample_val['Name']),\n",
    "           leaf_rotation=90,\n",
    "           leaf_font_size=10)\n",
    "plt.show()"
   ]
  },
  {
   "cell_type": "code",
   "execution_count": null,
   "metadata": {},
   "outputs": [],
   "source": []
  }
 ],
 "metadata": {
  "kernelspec": {
   "display_name": "Python 3",
   "language": "python",
   "name": "python3"
  },
  "language_info": {
   "codemirror_mode": {
    "name": "ipython",
    "version": 3
   },
   "file_extension": ".py",
   "mimetype": "text/x-python",
   "name": "python",
   "nbconvert_exporter": "python",
   "pygments_lexer": "ipython3",
   "version": "3.6.4"
  }
 },
 "nbformat": 4,
 "nbformat_minor": 2
}
